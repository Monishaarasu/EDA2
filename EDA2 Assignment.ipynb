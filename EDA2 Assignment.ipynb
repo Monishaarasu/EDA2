{
 "cells": [
  {
   "cell_type": "markdown",
   "id": "c08ac959-1a97-4361-9da7-fb6da9e52bf1",
   "metadata": {},
   "source": [
    "# Importing Libraries and dataset"
   ]
  },
  {
   "cell_type": "code",
   "execution_count": 3,
   "id": "f6762b0c-b9bc-44a3-b442-de39c7143e7d",
   "metadata": {},
   "outputs": [],
   "source": [
    "#Importing necessary libraries\n",
    "import pandas as pd\n",
    "import numpy as np\n",
    "import matplotlib.pyplot as plt"
   ]
  },
  {
   "cell_type": "code",
   "execution_count": 4,
   "id": "d4d6f1d1-9784-4b5c-86ac-68550c259d08",
   "metadata": {},
   "outputs": [
    {
     "data": {
      "text/html": [
       "<div>\n",
       "<style scoped>\n",
       "    .dataframe tbody tr th:only-of-type {\n",
       "        vertical-align: middle;\n",
       "    }\n",
       "\n",
       "    .dataframe tbody tr th {\n",
       "        vertical-align: top;\n",
       "    }\n",
       "\n",
       "    .dataframe thead th {\n",
       "        text-align: right;\n",
       "    }\n",
       "</style>\n",
       "<table border=\"1\" class=\"dataframe\">\n",
       "  <thead>\n",
       "    <tr style=\"text-align: right;\">\n",
       "      <th></th>\n",
       "      <th>age</th>\n",
       "      <th>workclass</th>\n",
       "      <th>fnlwgt</th>\n",
       "      <th>education</th>\n",
       "      <th>education_num</th>\n",
       "      <th>marital_status</th>\n",
       "      <th>occupation</th>\n",
       "      <th>relationship</th>\n",
       "      <th>race</th>\n",
       "      <th>sex</th>\n",
       "      <th>capital_gain</th>\n",
       "      <th>capital_loss</th>\n",
       "      <th>hours_per_week</th>\n",
       "      <th>native_country</th>\n",
       "      <th>income</th>\n",
       "    </tr>\n",
       "  </thead>\n",
       "  <tbody>\n",
       "    <tr>\n",
       "      <th>0</th>\n",
       "      <td>39</td>\n",
       "      <td>State-gov</td>\n",
       "      <td>77516</td>\n",
       "      <td>Bachelors</td>\n",
       "      <td>13</td>\n",
       "      <td>Never-married</td>\n",
       "      <td>Adm-clerical</td>\n",
       "      <td>Not-in-family</td>\n",
       "      <td>White</td>\n",
       "      <td>Male</td>\n",
       "      <td>2174</td>\n",
       "      <td>0</td>\n",
       "      <td>40</td>\n",
       "      <td>United-States</td>\n",
       "      <td>&lt;=50K</td>\n",
       "    </tr>\n",
       "    <tr>\n",
       "      <th>1</th>\n",
       "      <td>50</td>\n",
       "      <td>Self-emp-not-inc</td>\n",
       "      <td>83311</td>\n",
       "      <td>Bachelors</td>\n",
       "      <td>13</td>\n",
       "      <td>Married-civ-spouse</td>\n",
       "      <td>Exec-managerial</td>\n",
       "      <td>Husband</td>\n",
       "      <td>White</td>\n",
       "      <td>Male</td>\n",
       "      <td>0</td>\n",
       "      <td>0</td>\n",
       "      <td>13</td>\n",
       "      <td>United-States</td>\n",
       "      <td>&lt;=50K</td>\n",
       "    </tr>\n",
       "    <tr>\n",
       "      <th>2</th>\n",
       "      <td>38</td>\n",
       "      <td>Private</td>\n",
       "      <td>215646</td>\n",
       "      <td>HS-grad</td>\n",
       "      <td>9</td>\n",
       "      <td>Divorced</td>\n",
       "      <td>Handlers-cleaners</td>\n",
       "      <td>Not-in-family</td>\n",
       "      <td>White</td>\n",
       "      <td>Male</td>\n",
       "      <td>0</td>\n",
       "      <td>0</td>\n",
       "      <td>40</td>\n",
       "      <td>United-States</td>\n",
       "      <td>&lt;=50K</td>\n",
       "    </tr>\n",
       "    <tr>\n",
       "      <th>3</th>\n",
       "      <td>53</td>\n",
       "      <td>Private</td>\n",
       "      <td>234721</td>\n",
       "      <td>11th</td>\n",
       "      <td>7</td>\n",
       "      <td>Married-civ-spouse</td>\n",
       "      <td>Handlers-cleaners</td>\n",
       "      <td>Husband</td>\n",
       "      <td>Black</td>\n",
       "      <td>Male</td>\n",
       "      <td>0</td>\n",
       "      <td>0</td>\n",
       "      <td>40</td>\n",
       "      <td>United-States</td>\n",
       "      <td>&lt;=50K</td>\n",
       "    </tr>\n",
       "    <tr>\n",
       "      <th>4</th>\n",
       "      <td>28</td>\n",
       "      <td>Private</td>\n",
       "      <td>338409</td>\n",
       "      <td>Bachelors</td>\n",
       "      <td>13</td>\n",
       "      <td>Married-civ-spouse</td>\n",
       "      <td>Prof-specialty</td>\n",
       "      <td>Wife</td>\n",
       "      <td>Black</td>\n",
       "      <td>Female</td>\n",
       "      <td>0</td>\n",
       "      <td>0</td>\n",
       "      <td>40</td>\n",
       "      <td>Cuba</td>\n",
       "      <td>&lt;=50K</td>\n",
       "    </tr>\n",
       "  </tbody>\n",
       "</table>\n",
       "</div>"
      ],
      "text/plain": [
       "   age          workclass  fnlwgt   education  education_num  \\\n",
       "0   39          State-gov   77516   Bachelors             13   \n",
       "1   50   Self-emp-not-inc   83311   Bachelors             13   \n",
       "2   38            Private  215646     HS-grad              9   \n",
       "3   53            Private  234721        11th              7   \n",
       "4   28            Private  338409   Bachelors             13   \n",
       "\n",
       "        marital_status          occupation    relationship    race      sex  \\\n",
       "0        Never-married        Adm-clerical   Not-in-family   White     Male   \n",
       "1   Married-civ-spouse     Exec-managerial         Husband   White     Male   \n",
       "2             Divorced   Handlers-cleaners   Not-in-family   White     Male   \n",
       "3   Married-civ-spouse   Handlers-cleaners         Husband   Black     Male   \n",
       "4   Married-civ-spouse      Prof-specialty            Wife   Black   Female   \n",
       "\n",
       "   capital_gain  capital_loss  hours_per_week  native_country  income  \n",
       "0          2174             0              40   United-States   <=50K  \n",
       "1             0             0              13   United-States   <=50K  \n",
       "2             0             0              40   United-States   <=50K  \n",
       "3             0             0              40   United-States   <=50K  \n",
       "4             0             0              40            Cuba   <=50K  "
      ]
     },
     "execution_count": 4,
     "metadata": {},
     "output_type": "execute_result"
    }
   ],
   "source": [
    "# Loading the dataset\n",
    "df=pd.read_csv('adult_with_headers.csv')\n",
    "df.head()"
   ]
  },
  {
   "cell_type": "code",
   "execution_count": 5,
   "id": "ee35ae0d-4208-451f-9a11-ced6cb73e784",
   "metadata": {},
   "outputs": [
    {
     "data": {
      "text/plain": [
       "(32561, 15)"
      ]
     },
     "execution_count": 5,
     "metadata": {},
     "output_type": "execute_result"
    }
   ],
   "source": [
    "df.shape"
   ]
  },
  {
   "cell_type": "code",
   "execution_count": 6,
   "id": "f1091a47-de4c-44fb-b528-64468b151f82",
   "metadata": {},
   "outputs": [
    {
     "data": {
      "text/plain": [
       "Index(['age', 'workclass', 'fnlwgt', 'education', 'education_num',\n",
       "       'marital_status', 'occupation', 'relationship', 'race', 'sex',\n",
       "       'capital_gain', 'capital_loss', 'hours_per_week', 'native_country',\n",
       "       'income'],\n",
       "      dtype='object')"
      ]
     },
     "execution_count": 6,
     "metadata": {},
     "output_type": "execute_result"
    }
   ],
   "source": [
    "df.columns"
   ]
  },
  {
   "cell_type": "code",
   "execution_count": 7,
   "id": "8aad70ac-330a-4d5f-bdc6-b67b6f5406b0",
   "metadata": {},
   "outputs": [
    {
     "name": "stdout",
     "output_type": "stream",
     "text": [
      "<class 'pandas.core.frame.DataFrame'>\n",
      "RangeIndex: 32561 entries, 0 to 32560\n",
      "Data columns (total 15 columns):\n",
      " #   Column          Non-Null Count  Dtype \n",
      "---  ------          --------------  ----- \n",
      " 0   age             32561 non-null  int64 \n",
      " 1   workclass       32561 non-null  object\n",
      " 2   fnlwgt          32561 non-null  int64 \n",
      " 3   education       32561 non-null  object\n",
      " 4   education_num   32561 non-null  int64 \n",
      " 5   marital_status  32561 non-null  object\n",
      " 6   occupation      32561 non-null  object\n",
      " 7   relationship    32561 non-null  object\n",
      " 8   race            32561 non-null  object\n",
      " 9   sex             32561 non-null  object\n",
      " 10  capital_gain    32561 non-null  int64 \n",
      " 11  capital_loss    32561 non-null  int64 \n",
      " 12  hours_per_week  32561 non-null  int64 \n",
      " 13  native_country  32561 non-null  object\n",
      " 14  income          32561 non-null  object\n",
      "dtypes: int64(6), object(9)\n",
      "memory usage: 3.7+ MB\n"
     ]
    }
   ],
   "source": [
    "df.info()"
   ]
  },
  {
   "cell_type": "code",
   "execution_count": 8,
   "id": "725d45ae-d09e-4e6c-84a2-75f536a4c8df",
   "metadata": {},
   "outputs": [
    {
     "data": {
      "text/plain": [
       "age               0\n",
       "workclass         0\n",
       "fnlwgt            0\n",
       "education         0\n",
       "education_num     0\n",
       "marital_status    0\n",
       "occupation        0\n",
       "relationship      0\n",
       "race              0\n",
       "sex               0\n",
       "capital_gain      0\n",
       "capital_loss      0\n",
       "hours_per_week    0\n",
       "native_country    0\n",
       "income            0\n",
       "dtype: int64"
      ]
     },
     "execution_count": 8,
     "metadata": {},
     "output_type": "execute_result"
    }
   ],
   "source": [
    "#checking Missing Values\n",
    "df.isnull().sum()"
   ]
  },
  {
   "cell_type": "code",
   "execution_count": 9,
   "id": "1b44f580-7b72-4f51-8170-4ddab7a737fb",
   "metadata": {},
   "outputs": [
    {
     "data": {
      "text/plain": [
       "age                int64\n",
       "workclass         object\n",
       "fnlwgt             int64\n",
       "education         object\n",
       "education_num      int64\n",
       "marital_status    object\n",
       "occupation        object\n",
       "relationship      object\n",
       "race              object\n",
       "sex               object\n",
       "capital_gain       int64\n",
       "capital_loss       int64\n",
       "hours_per_week     int64\n",
       "native_country    object\n",
       "income            object\n",
       "dtype: object"
      ]
     },
     "execution_count": 9,
     "metadata": {},
     "output_type": "execute_result"
    }
   ],
   "source": [
    "df.dtypes"
   ]
  },
  {
   "cell_type": "code",
   "execution_count": 10,
   "id": "74bd84b1-8190-4128-a500-db5e28c4f142",
   "metadata": {},
   "outputs": [
    {
     "data": {
      "text/plain": [
       "Index(['age', 'fnlwgt', 'education_num', 'capital_gain', 'capital_loss',\n",
       "       'hours_per_week'],\n",
       "      dtype='object')"
      ]
     },
     "execution_count": 10,
     "metadata": {},
     "output_type": "execute_result"
    }
   ],
   "source": [
    "# Identify numerical features\n",
    "numerical_features=df.select_dtypes(include=['int64','float']).columns\n",
    "numerical_features"
   ]
  },
  {
   "cell_type": "code",
   "execution_count": 11,
   "id": "cff84eea-7229-4597-ad31-54955bddbf6e",
   "metadata": {},
   "outputs": [
    {
     "data": {
      "text/plain": [
       "Index(['workclass', 'education', 'marital_status', 'occupation',\n",
       "       'relationship', 'race', 'sex', 'native_country', 'income'],\n",
       "      dtype='object')"
      ]
     },
     "execution_count": 11,
     "metadata": {},
     "output_type": "execute_result"
    }
   ],
   "source": [
    "# Identify categorical features\n",
    "categorical_features=df.select_dtypes(include=['object']).columns\n",
    "categorical_features"
   ]
  },
  {
   "cell_type": "markdown",
   "id": "4e150b48-2d6a-4d23-b0f5-29b041df74fb",
   "metadata": {},
   "source": [
    "## Applying scaling techniques to numerical features"
   ]
  },
  {
   "cell_type": "code",
   "execution_count": 12,
   "id": "e37e0768-da98-4761-8d49-c3e487ebc96f",
   "metadata": {},
   "outputs": [],
   "source": [
    "from sklearn.preprocessing import StandardScaler,MinMaxScaler"
   ]
  },
  {
   "cell_type": "code",
   "execution_count": 13,
   "id": "c926ca37-2eae-4faf-97ee-76270fd22318",
   "metadata": {},
   "outputs": [],
   "source": [
    "scaler=StandardScaler()"
   ]
  },
  {
   "cell_type": "code",
   "execution_count": 14,
   "id": "53343c43-5881-44c9-8133-bfe91d2bf84a",
   "metadata": {},
   "outputs": [],
   "source": [
    "scaled_data_df=df.copy()"
   ]
  },
  {
   "cell_type": "code",
   "execution_count": 15,
   "id": "753768cd-5eae-4be0-b04d-7c2063dcac0f",
   "metadata": {},
   "outputs": [
    {
     "data": {
      "text/plain": [
       "array([[ 0.03067056, -1.06361075,  1.13473876,  0.1484529 , -0.21665953,\n",
       "        -0.03542945],\n",
       "       [ 0.83710898, -1.008707  ,  1.13473876, -0.14592048, -0.21665953,\n",
       "        -2.22215312],\n",
       "       [-0.04264203,  0.2450785 , -0.42005962, -0.14592048, -0.21665953,\n",
       "        -0.03542945],\n",
       "       ...,\n",
       "       [ 1.42360965, -0.35877741, -0.42005962, -0.14592048, -0.21665953,\n",
       "        -0.03542945],\n",
       "       [-1.21564337,  0.11095988, -0.42005962, -0.14592048, -0.21665953,\n",
       "        -1.65522476],\n",
       "       [ 0.98373415,  0.92989258, -0.42005962,  1.88842434, -0.21665953,\n",
       "        -0.03542945]])"
      ]
     },
     "execution_count": 15,
     "metadata": {},
     "output_type": "execute_result"
    }
   ],
   "source": [
    "scaled_data_df=scaler.fit_transform(df[numerical_features])\n",
    "scaled_data_df"
   ]
  },
  {
   "cell_type": "code",
   "execution_count": 16,
   "id": "5701fda3-61da-4e7d-949b-65d77de28ce1",
   "metadata": {},
   "outputs": [],
   "source": [
    "min_sca=MinMaxScaler()"
   ]
  },
  {
   "cell_type": "code",
   "execution_count": 17,
   "id": "38fc432b-1429-4615-b76c-469c686bf45a",
   "metadata": {},
   "outputs": [],
   "source": [
    "min_data_df=df.copy()"
   ]
  },
  {
   "cell_type": "code",
   "execution_count": 18,
   "id": "252101e6-c1de-402e-90fa-2e19d56b70a7",
   "metadata": {},
   "outputs": [
    {
     "data": {
      "text/plain": [
       "array([[0.30136986, 0.0443019 , 0.8       , 0.02174022, 0.        ,\n",
       "        0.39795918],\n",
       "       [0.45205479, 0.0482376 , 0.8       , 0.        , 0.        ,\n",
       "        0.12244898],\n",
       "       [0.28767123, 0.13811345, 0.53333333, 0.        , 0.        ,\n",
       "        0.39795918],\n",
       "       ...,\n",
       "       [0.56164384, 0.09482688, 0.53333333, 0.        , 0.        ,\n",
       "        0.39795918],\n",
       "       [0.06849315, 0.12849934, 0.53333333, 0.        , 0.        ,\n",
       "        0.19387755],\n",
       "       [0.47945205, 0.18720338, 0.53333333, 0.1502415 , 0.        ,\n",
       "        0.39795918]])"
      ]
     },
     "execution_count": 18,
     "metadata": {},
     "output_type": "execute_result"
    }
   ],
   "source": [
    "min_data_df=min_sca.fit_transform(df[numerical_features])\n",
    "min_data_df"
   ]
  },
  {
   "cell_type": "markdown",
   "id": "2625005d-2919-4e29-8649-9f8215eb86cd",
   "metadata": {},
   "source": [
    "## Encoding Technique"
   ]
  },
  {
   "cell_type": "markdown",
   "id": "46238ed5-f978-4b3d-966e-a84539cd3d5e",
   "metadata": {},
   "source": [
    "### One Hot Encoder"
   ]
  },
  {
   "cell_type": "code",
   "execution_count": 19,
   "id": "1fd92851-d80a-4964-9ab8-8ac558aec257",
   "metadata": {},
   "outputs": [],
   "source": [
    "from sklearn.preprocessing import OneHotEncoder, LabelEncoder"
   ]
  },
  {
   "cell_type": "code",
   "execution_count": 20,
   "id": "d68ef341-db4b-42d8-b0aa-34934c83c128",
   "metadata": {},
   "outputs": [
    {
     "data": {
      "text/plain": [
       "Index(['workclass', 'education', 'marital_status', 'occupation',\n",
       "       'relationship', 'race', 'sex', 'native_country', 'income'],\n",
       "      dtype='object')"
      ]
     },
     "execution_count": 20,
     "metadata": {},
     "output_type": "execute_result"
    }
   ],
   "source": [
    "categorical_features"
   ]
  },
  {
   "cell_type": "code",
   "execution_count": 21,
   "id": "c6a128c1-5241-4263-871e-479a76b754ca",
   "metadata": {},
   "outputs": [
    {
     "data": {
      "text/plain": [
       "array([' State-gov', ' Self-emp-not-inc', ' Private', ' Federal-gov',\n",
       "       ' Local-gov', ' ?', ' Self-emp-inc', ' Without-pay',\n",
       "       ' Never-worked'], dtype=object)"
      ]
     },
     "execution_count": 21,
     "metadata": {},
     "output_type": "execute_result"
    }
   ],
   "source": [
    "df['workclass'].unique()"
   ]
  },
  {
   "cell_type": "code",
   "execution_count": 22,
   "id": "2353c285-b5b1-4141-8a75-5b417a74e218",
   "metadata": {},
   "outputs": [
    {
     "data": {
      "text/plain": [
       "array([' Bachelors', ' HS-grad', ' 11th', ' Masters', ' 9th',\n",
       "       ' Some-college', ' Assoc-acdm', ' Assoc-voc', ' 7th-8th',\n",
       "       ' Doctorate', ' Prof-school', ' 5th-6th', ' 10th', ' 1st-4th',\n",
       "       ' Preschool', ' 12th'], dtype=object)"
      ]
     },
     "execution_count": 22,
     "metadata": {},
     "output_type": "execute_result"
    }
   ],
   "source": [
    "df['education'].unique()"
   ]
  },
  {
   "cell_type": "code",
   "execution_count": 23,
   "id": "6ec60853-6fe4-445a-aa78-64527e72ada8",
   "metadata": {},
   "outputs": [
    {
     "data": {
      "text/plain": [
       "array([' Never-married', ' Married-civ-spouse', ' Divorced',\n",
       "       ' Married-spouse-absent', ' Separated', ' Married-AF-spouse',\n",
       "       ' Widowed'], dtype=object)"
      ]
     },
     "execution_count": 23,
     "metadata": {},
     "output_type": "execute_result"
    }
   ],
   "source": [
    "df['marital_status'].unique()"
   ]
  },
  {
   "cell_type": "code",
   "execution_count": 24,
   "id": "e03fef77-ae1d-48c4-a933-9d76c60aa160",
   "metadata": {},
   "outputs": [
    {
     "data": {
      "text/plain": [
       "array([' Adm-clerical', ' Exec-managerial', ' Handlers-cleaners',\n",
       "       ' Prof-specialty', ' Other-service', ' Sales', ' Craft-repair',\n",
       "       ' Transport-moving', ' Farming-fishing', ' Machine-op-inspct',\n",
       "       ' Tech-support', ' ?', ' Protective-serv', ' Armed-Forces',\n",
       "       ' Priv-house-serv'], dtype=object)"
      ]
     },
     "execution_count": 24,
     "metadata": {},
     "output_type": "execute_result"
    }
   ],
   "source": [
    "df['occupation'].unique()"
   ]
  },
  {
   "cell_type": "code",
   "execution_count": 25,
   "id": "de66fdf3-eecc-4da8-aa94-27f28143f365",
   "metadata": {},
   "outputs": [
    {
     "data": {
      "text/plain": [
       "array([' Not-in-family', ' Husband', ' Wife', ' Own-child', ' Unmarried',\n",
       "       ' Other-relative'], dtype=object)"
      ]
     },
     "execution_count": 25,
     "metadata": {},
     "output_type": "execute_result"
    }
   ],
   "source": [
    "df['relationship'].unique()"
   ]
  },
  {
   "cell_type": "code",
   "execution_count": 26,
   "id": "a6b7cb59-3665-4dcb-bb13-a27cd272ed7e",
   "metadata": {},
   "outputs": [
    {
     "data": {
      "text/plain": [
       "array([' White', ' Black', ' Asian-Pac-Islander', ' Amer-Indian-Eskimo',\n",
       "       ' Other'], dtype=object)"
      ]
     },
     "execution_count": 26,
     "metadata": {},
     "output_type": "execute_result"
    }
   ],
   "source": [
    "df['race'].unique()"
   ]
  },
  {
   "cell_type": "code",
   "execution_count": 27,
   "id": "86e1cf4f-89e2-4bdd-a59e-2477906279f5",
   "metadata": {},
   "outputs": [
    {
     "data": {
      "text/plain": [
       "array([' Male', ' Female'], dtype=object)"
      ]
     },
     "execution_count": 27,
     "metadata": {},
     "output_type": "execute_result"
    }
   ],
   "source": [
    "df['sex'].unique()"
   ]
  },
  {
   "cell_type": "code",
   "execution_count": 28,
   "id": "a59a5b8c-0236-4919-996b-ae30ad033071",
   "metadata": {},
   "outputs": [
    {
     "data": {
      "text/plain": [
       "array([' United-States', ' Cuba', ' Jamaica', ' India', ' ?', ' Mexico',\n",
       "       ' South', ' Puerto-Rico', ' Honduras', ' England', ' Canada',\n",
       "       ' Germany', ' Iran', ' Philippines', ' Italy', ' Poland',\n",
       "       ' Columbia', ' Cambodia', ' Thailand', ' Ecuador', ' Laos',\n",
       "       ' Taiwan', ' Haiti', ' Portugal', ' Dominican-Republic',\n",
       "       ' El-Salvador', ' France', ' Guatemala', ' China', ' Japan',\n",
       "       ' Yugoslavia', ' Peru', ' Outlying-US(Guam-USVI-etc)', ' Scotland',\n",
       "       ' Trinadad&Tobago', ' Greece', ' Nicaragua', ' Vietnam', ' Hong',\n",
       "       ' Ireland', ' Hungary', ' Holand-Netherlands'], dtype=object)"
      ]
     },
     "execution_count": 28,
     "metadata": {},
     "output_type": "execute_result"
    }
   ],
   "source": [
    "df['native_country'].unique()"
   ]
  },
  {
   "cell_type": "code",
   "execution_count": 29,
   "id": "a8e7f789-2dd2-4474-8435-92fcd30a5d32",
   "metadata": {},
   "outputs": [
    {
     "data": {
      "text/plain": [
       "array([' <=50K', ' >50K'], dtype=object)"
      ]
     },
     "execution_count": 29,
     "metadata": {},
     "output_type": "execute_result"
    }
   ],
   "source": [
    "df['income'].unique()"
   ]
  },
  {
   "cell_type": "code",
   "execution_count": 30,
   "id": "23ccc61b-7cf8-4ceb-95e5-0b642049992d",
   "metadata": {},
   "outputs": [],
   "source": [
    "# Apply One-Hot Encoding to categorical variables with less than 5 categories\n",
    "OHE= OneHotEncoder(sparse_output=False, drop='first')\n",
    "df_one_hot_encoded = df.copy()\n",
    "\n",
    "for col in categorical_features:\n",
    "    if df[col].nunique() < 5:\n",
    "        one_hot_encoded_data = OHE.fit_transform(df[[col]])\n",
    "        one_hot_encoded_df = pd.DataFrame(one_hot_encoded_data, columns=[f\"{col}_{i}\" for i in range(one_hot_encoded_data.shape[1])])\n",
    "        df_one_hot_encoded = pd.concat([df_one_hot_encoded, one_hot_encoded_df], axis=1).drop(columns=[col])   "
   ]
  },
  {
   "cell_type": "code",
   "execution_count": 31,
   "id": "05300dad-fd50-4062-b24c-5584a399ba97",
   "metadata": {},
   "outputs": [
    {
     "data": {
      "text/html": [
       "<div>\n",
       "<style scoped>\n",
       "    .dataframe tbody tr th:only-of-type {\n",
       "        vertical-align: middle;\n",
       "    }\n",
       "\n",
       "    .dataframe tbody tr th {\n",
       "        vertical-align: top;\n",
       "    }\n",
       "\n",
       "    .dataframe thead th {\n",
       "        text-align: right;\n",
       "    }\n",
       "</style>\n",
       "<table border=\"1\" class=\"dataframe\">\n",
       "  <thead>\n",
       "    <tr style=\"text-align: right;\">\n",
       "      <th></th>\n",
       "      <th>age</th>\n",
       "      <th>workclass</th>\n",
       "      <th>fnlwgt</th>\n",
       "      <th>education</th>\n",
       "      <th>education_num</th>\n",
       "      <th>marital_status</th>\n",
       "      <th>occupation</th>\n",
       "      <th>relationship</th>\n",
       "      <th>race</th>\n",
       "      <th>capital_gain</th>\n",
       "      <th>capital_loss</th>\n",
       "      <th>hours_per_week</th>\n",
       "      <th>native_country</th>\n",
       "      <th>sex_0</th>\n",
       "      <th>income_0</th>\n",
       "    </tr>\n",
       "  </thead>\n",
       "  <tbody>\n",
       "    <tr>\n",
       "      <th>0</th>\n",
       "      <td>39</td>\n",
       "      <td>State-gov</td>\n",
       "      <td>77516</td>\n",
       "      <td>Bachelors</td>\n",
       "      <td>13</td>\n",
       "      <td>Never-married</td>\n",
       "      <td>Adm-clerical</td>\n",
       "      <td>Not-in-family</td>\n",
       "      <td>White</td>\n",
       "      <td>2174</td>\n",
       "      <td>0</td>\n",
       "      <td>40</td>\n",
       "      <td>United-States</td>\n",
       "      <td>1.0</td>\n",
       "      <td>0.0</td>\n",
       "    </tr>\n",
       "    <tr>\n",
       "      <th>1</th>\n",
       "      <td>50</td>\n",
       "      <td>Self-emp-not-inc</td>\n",
       "      <td>83311</td>\n",
       "      <td>Bachelors</td>\n",
       "      <td>13</td>\n",
       "      <td>Married-civ-spouse</td>\n",
       "      <td>Exec-managerial</td>\n",
       "      <td>Husband</td>\n",
       "      <td>White</td>\n",
       "      <td>0</td>\n",
       "      <td>0</td>\n",
       "      <td>13</td>\n",
       "      <td>United-States</td>\n",
       "      <td>1.0</td>\n",
       "      <td>0.0</td>\n",
       "    </tr>\n",
       "  </tbody>\n",
       "</table>\n",
       "</div>"
      ],
      "text/plain": [
       "   age          workclass  fnlwgt   education  education_num  \\\n",
       "0   39          State-gov   77516   Bachelors             13   \n",
       "1   50   Self-emp-not-inc   83311   Bachelors             13   \n",
       "\n",
       "        marital_status        occupation    relationship    race  \\\n",
       "0        Never-married      Adm-clerical   Not-in-family   White   \n",
       "1   Married-civ-spouse   Exec-managerial         Husband   White   \n",
       "\n",
       "   capital_gain  capital_loss  hours_per_week  native_country  sex_0  income_0  \n",
       "0          2174             0              40   United-States    1.0       0.0  \n",
       "1             0             0              13   United-States    1.0       0.0  "
      ]
     },
     "execution_count": 31,
     "metadata": {},
     "output_type": "execute_result"
    }
   ],
   "source": [
    "df_one_hot_encoded.head(2)"
   ]
  },
  {
   "cell_type": "code",
   "execution_count": 32,
   "id": "3f3f25e2-e509-4290-ad8c-49ebf707c30c",
   "metadata": {},
   "outputs": [
    {
     "data": {
      "text/html": [
       "<div>\n",
       "<style scoped>\n",
       "    .dataframe tbody tr th:only-of-type {\n",
       "        vertical-align: middle;\n",
       "    }\n",
       "\n",
       "    .dataframe tbody tr th {\n",
       "        vertical-align: top;\n",
       "    }\n",
       "\n",
       "    .dataframe thead th {\n",
       "        text-align: right;\n",
       "    }\n",
       "</style>\n",
       "<table border=\"1\" class=\"dataframe\">\n",
       "  <thead>\n",
       "    <tr style=\"text-align: right;\">\n",
       "      <th></th>\n",
       "      <th>age</th>\n",
       "      <th>workclass</th>\n",
       "      <th>fnlwgt</th>\n",
       "      <th>education</th>\n",
       "      <th>education_num</th>\n",
       "      <th>marital_status</th>\n",
       "      <th>occupation</th>\n",
       "      <th>relationship</th>\n",
       "      <th>race</th>\n",
       "      <th>capital_gain</th>\n",
       "      <th>capital_loss</th>\n",
       "      <th>hours_per_week</th>\n",
       "      <th>native_country</th>\n",
       "      <th>sex_0</th>\n",
       "      <th>income_0</th>\n",
       "    </tr>\n",
       "  </thead>\n",
       "  <tbody>\n",
       "    <tr>\n",
       "      <th>0</th>\n",
       "      <td>39</td>\n",
       "      <td>7</td>\n",
       "      <td>77516</td>\n",
       "      <td>9</td>\n",
       "      <td>13</td>\n",
       "      <td>4</td>\n",
       "      <td>1</td>\n",
       "      <td>1</td>\n",
       "      <td>4</td>\n",
       "      <td>2174</td>\n",
       "      <td>0</td>\n",
       "      <td>40</td>\n",
       "      <td>39</td>\n",
       "      <td>1.0</td>\n",
       "      <td>0.0</td>\n",
       "    </tr>\n",
       "    <tr>\n",
       "      <th>1</th>\n",
       "      <td>50</td>\n",
       "      <td>6</td>\n",
       "      <td>83311</td>\n",
       "      <td>9</td>\n",
       "      <td>13</td>\n",
       "      <td>2</td>\n",
       "      <td>4</td>\n",
       "      <td>0</td>\n",
       "      <td>4</td>\n",
       "      <td>0</td>\n",
       "      <td>0</td>\n",
       "      <td>13</td>\n",
       "      <td>39</td>\n",
       "      <td>1.0</td>\n",
       "      <td>0.0</td>\n",
       "    </tr>\n",
       "    <tr>\n",
       "      <th>2</th>\n",
       "      <td>38</td>\n",
       "      <td>4</td>\n",
       "      <td>215646</td>\n",
       "      <td>11</td>\n",
       "      <td>9</td>\n",
       "      <td>0</td>\n",
       "      <td>6</td>\n",
       "      <td>1</td>\n",
       "      <td>4</td>\n",
       "      <td>0</td>\n",
       "      <td>0</td>\n",
       "      <td>40</td>\n",
       "      <td>39</td>\n",
       "      <td>1.0</td>\n",
       "      <td>0.0</td>\n",
       "    </tr>\n",
       "    <tr>\n",
       "      <th>3</th>\n",
       "      <td>53</td>\n",
       "      <td>4</td>\n",
       "      <td>234721</td>\n",
       "      <td>1</td>\n",
       "      <td>7</td>\n",
       "      <td>2</td>\n",
       "      <td>6</td>\n",
       "      <td>0</td>\n",
       "      <td>2</td>\n",
       "      <td>0</td>\n",
       "      <td>0</td>\n",
       "      <td>40</td>\n",
       "      <td>39</td>\n",
       "      <td>1.0</td>\n",
       "      <td>0.0</td>\n",
       "    </tr>\n",
       "    <tr>\n",
       "      <th>4</th>\n",
       "      <td>28</td>\n",
       "      <td>4</td>\n",
       "      <td>338409</td>\n",
       "      <td>9</td>\n",
       "      <td>13</td>\n",
       "      <td>2</td>\n",
       "      <td>10</td>\n",
       "      <td>5</td>\n",
       "      <td>2</td>\n",
       "      <td>0</td>\n",
       "      <td>0</td>\n",
       "      <td>40</td>\n",
       "      <td>5</td>\n",
       "      <td>0.0</td>\n",
       "      <td>0.0</td>\n",
       "    </tr>\n",
       "  </tbody>\n",
       "</table>\n",
       "</div>"
      ],
      "text/plain": [
       "   age  workclass  fnlwgt  education  education_num  marital_status  \\\n",
       "0   39          7   77516          9             13               4   \n",
       "1   50          6   83311          9             13               2   \n",
       "2   38          4  215646         11              9               0   \n",
       "3   53          4  234721          1              7               2   \n",
       "4   28          4  338409          9             13               2   \n",
       "\n",
       "   occupation  relationship  race  capital_gain  capital_loss  hours_per_week  \\\n",
       "0           1             1     4          2174             0              40   \n",
       "1           4             0     4             0             0              13   \n",
       "2           6             1     4             0             0              40   \n",
       "3           6             0     2             0             0              40   \n",
       "4          10             5     2             0             0              40   \n",
       "\n",
       "   native_country  sex_0  income_0  \n",
       "0              39    1.0       0.0  \n",
       "1              39    1.0       0.0  \n",
       "2              39    1.0       0.0  \n",
       "3              39    1.0       0.0  \n",
       "4               5    0.0       0.0  "
      ]
     },
     "execution_count": 32,
     "metadata": {},
     "output_type": "execute_result"
    }
   ],
   "source": [
    "# Apply Label Encoding to categorical variables with more than 5 categories\n",
    "le = LabelEncoder()\n",
    "df_label_encoded = df_one_hot_encoded.copy()\n",
    "\n",
    "for col in categorical_features:\n",
    "    if df[col].nunique() >= 5:\n",
    "        df_label_encoded[col] = le.fit_transform(df[col])\n",
    "\n",
    "df_label_encoded.head()"
   ]
  },
  {
   "cell_type": "markdown",
   "id": "3de891ff-3856-4436-81e2-703e18fde0e6",
   "metadata": {},
   "source": [
    "## Feature engineering"
   ]
  },
  {
   "cell_type": "code",
   "execution_count": 33,
   "id": "f7705dbf-d180-4313-a6a9-88720f809fe8",
   "metadata": {},
   "outputs": [
    {
     "data": {
      "text/html": [
       "<div>\n",
       "<style scoped>\n",
       "    .dataframe tbody tr th:only-of-type {\n",
       "        vertical-align: middle;\n",
       "    }\n",
       "\n",
       "    .dataframe tbody tr th {\n",
       "        vertical-align: top;\n",
       "    }\n",
       "\n",
       "    .dataframe thead th {\n",
       "        text-align: right;\n",
       "    }\n",
       "</style>\n",
       "<table border=\"1\" class=\"dataframe\">\n",
       "  <thead>\n",
       "    <tr style=\"text-align: right;\">\n",
       "      <th></th>\n",
       "      <th>age</th>\n",
       "      <th>workclass</th>\n",
       "      <th>fnlwgt</th>\n",
       "      <th>education</th>\n",
       "      <th>education_num</th>\n",
       "      <th>marital_status</th>\n",
       "      <th>occupation</th>\n",
       "      <th>relationship</th>\n",
       "      <th>race</th>\n",
       "      <th>capital_gain</th>\n",
       "      <th>capital_loss</th>\n",
       "      <th>hours_per_week</th>\n",
       "      <th>native_country</th>\n",
       "      <th>sex_0</th>\n",
       "      <th>income_0</th>\n",
       "      <th>age_bin</th>\n",
       "      <th>hours_per_week_bin</th>\n",
       "    </tr>\n",
       "  </thead>\n",
       "  <tbody>\n",
       "    <tr>\n",
       "      <th>0</th>\n",
       "      <td>39</td>\n",
       "      <td>7</td>\n",
       "      <td>77516</td>\n",
       "      <td>9</td>\n",
       "      <td>13</td>\n",
       "      <td>4</td>\n",
       "      <td>1</td>\n",
       "      <td>1</td>\n",
       "      <td>4</td>\n",
       "      <td>2174</td>\n",
       "      <td>0</td>\n",
       "      <td>40</td>\n",
       "      <td>39</td>\n",
       "      <td>1.0</td>\n",
       "      <td>0.0</td>\n",
       "      <td>1</td>\n",
       "      <td>1</td>\n",
       "    </tr>\n",
       "    <tr>\n",
       "      <th>1</th>\n",
       "      <td>50</td>\n",
       "      <td>6</td>\n",
       "      <td>83311</td>\n",
       "      <td>9</td>\n",
       "      <td>13</td>\n",
       "      <td>2</td>\n",
       "      <td>4</td>\n",
       "      <td>0</td>\n",
       "      <td>4</td>\n",
       "      <td>0</td>\n",
       "      <td>0</td>\n",
       "      <td>13</td>\n",
       "      <td>39</td>\n",
       "      <td>1.0</td>\n",
       "      <td>0.0</td>\n",
       "      <td>2</td>\n",
       "      <td>3</td>\n",
       "    </tr>\n",
       "  </tbody>\n",
       "</table>\n",
       "</div>"
      ],
      "text/plain": [
       "   age  workclass  fnlwgt  education  education_num  marital_status  \\\n",
       "0   39          7   77516          9             13               4   \n",
       "1   50          6   83311          9             13               2   \n",
       "\n",
       "   occupation  relationship  race  capital_gain  capital_loss  hours_per_week  \\\n",
       "0           1             1     4          2174             0              40   \n",
       "1           4             0     4             0             0              13   \n",
       "\n",
       "   native_country  sex_0  income_0  age_bin  hours_per_week_bin  \n",
       "0              39    1.0       0.0        1                   1  \n",
       "1              39    1.0       0.0        2                   3  "
      ]
     },
     "execution_count": 33,
     "metadata": {},
     "output_type": "execute_result"
    }
   ],
   "source": [
    "# Creating new features\n",
    "df_label_encoded['age_bin']=pd.cut(df_label_encoded['age'],bins=[0,25,45,65,100],labels=['young','middle_aged','senior','elderly'])\n",
    "df_label_encoded['hours_per_week_bin']=pd.cut(df_label_encoded['hours_per_week'],bins=[0,20,40,60,80],labels=['part_time','full_time','over_time','extreme'])\n",
    "# Encoding new features\n",
    "df_label_encoded['age_bin']=le.fit_transform(df_label_encoded['age_bin'])\n",
    "df_label_encoded['hours_per_week_bin']=le.fit_transform(df_label_encoded['hours_per_week_bin'])\n",
    "df_label_encoded.head(2)"
   ]
  },
  {
   "cell_type": "code",
   "execution_count": 34,
   "id": "848ed429-aba1-4d42-97b9-1611965b89d2",
   "metadata": {},
   "outputs": [
    {
     "data": {
      "text/plain": [
       "age                0.558743\n",
       "fnlwgt             1.446980\n",
       "education_num     -0.311676\n",
       "capital_gain      11.953848\n",
       "capital_loss       4.594629\n",
       "hours_per_week     0.227643\n",
       "dtype: float64"
      ]
     },
     "execution_count": 34,
     "metadata": {},
     "output_type": "execute_result"
    }
   ],
   "source": [
    "# Check skewness of numerical features\n",
    "skewness = df[numerical_features].skew()\n",
    "skewness"
   ]
  },
  {
   "cell_type": "code",
   "execution_count": 35,
   "id": "15ef4563-85f3-428b-830d-96e00eb54f21",
   "metadata": {},
   "outputs": [],
   "source": [
    "# Apply log transformation to a skewed feature\n",
    "skewed_feature='capital_gain'\n",
    "df_label_encoded[skewed_feature+'_log']=np.log1p(df_label_encoded[skewed_feature]) "
   ]
  },
  {
   "cell_type": "code",
   "execution_count": 36,
   "id": "672365e7-87f2-4b20-bc73-43e1025f5c0f",
   "metadata": {},
   "outputs": [
    {
     "data": {
      "text/html": [
       "<div>\n",
       "<style scoped>\n",
       "    .dataframe tbody tr th:only-of-type {\n",
       "        vertical-align: middle;\n",
       "    }\n",
       "\n",
       "    .dataframe tbody tr th {\n",
       "        vertical-align: top;\n",
       "    }\n",
       "\n",
       "    .dataframe thead th {\n",
       "        text-align: right;\n",
       "    }\n",
       "</style>\n",
       "<table border=\"1\" class=\"dataframe\">\n",
       "  <thead>\n",
       "    <tr style=\"text-align: right;\">\n",
       "      <th></th>\n",
       "      <th>capital_gain</th>\n",
       "      <th>capital_gain_log</th>\n",
       "    </tr>\n",
       "  </thead>\n",
       "  <tbody>\n",
       "    <tr>\n",
       "      <th>0</th>\n",
       "      <td>2174</td>\n",
       "      <td>7.684784</td>\n",
       "    </tr>\n",
       "    <tr>\n",
       "      <th>1</th>\n",
       "      <td>0</td>\n",
       "      <td>0.000000</td>\n",
       "    </tr>\n",
       "    <tr>\n",
       "      <th>2</th>\n",
       "      <td>0</td>\n",
       "      <td>0.000000</td>\n",
       "    </tr>\n",
       "    <tr>\n",
       "      <th>3</th>\n",
       "      <td>0</td>\n",
       "      <td>0.000000</td>\n",
       "    </tr>\n",
       "    <tr>\n",
       "      <th>4</th>\n",
       "      <td>0</td>\n",
       "      <td>0.000000</td>\n",
       "    </tr>\n",
       "  </tbody>\n",
       "</table>\n",
       "</div>"
      ],
      "text/plain": [
       "   capital_gain  capital_gain_log\n",
       "0          2174          7.684784\n",
       "1             0          0.000000\n",
       "2             0          0.000000\n",
       "3             0          0.000000\n",
       "4             0          0.000000"
      ]
     },
     "execution_count": 36,
     "metadata": {},
     "output_type": "execute_result"
    }
   ],
   "source": [
    "# Verify transformation\n",
    "df_label_encoded[[skewed_feature, skewed_feature + '_log']].head()"
   ]
  },
  {
   "cell_type": "markdown",
   "id": "dfcb2e5b-7aa9-434b-a5e3-1887dda5778e",
   "metadata": {},
   "source": [
    "## IsolationForest"
   ]
  },
  {
   "cell_type": "code",
   "execution_count": 37,
   "id": "e7c5505d-a361-4e16-80bb-6bf38ef5b709",
   "metadata": {},
   "outputs": [],
   "source": [
    "from sklearn.ensemble import IsolationForest"
   ]
  },
  {
   "cell_type": "code",
   "execution_count": 38,
   "id": "ad0faf7e-b0d7-4927-a0f4-01cf3a0db306",
   "metadata": {},
   "outputs": [],
   "source": [
    "# Apply Isolation Forest\n",
    "iso_forest = IsolationForest(contamination=0.05)\n",
    "outliers = iso_forest.fit_predict(df_label_encoded[numerical_features])"
   ]
  },
  {
   "cell_type": "code",
   "execution_count": 39,
   "id": "e14459dc-36a8-45a7-8f87-acebdf2cbf7f",
   "metadata": {},
   "outputs": [
    {
     "data": {
      "text/plain": [
       "array([1, 1, 1, ..., 1, 1, 1])"
      ]
     },
     "execution_count": 39,
     "metadata": {},
     "output_type": "execute_result"
    }
   ],
   "source": [
    "outliers "
   ]
  },
  {
   "cell_type": "code",
   "execution_count": 40,
   "id": "9b18aeb7-4328-4b87-bf86-70854c896978",
   "metadata": {},
   "outputs": [
    {
     "data": {
      "text/plain": [
       "(30933, 18)"
      ]
     },
     "execution_count": 40,
     "metadata": {},
     "output_type": "execute_result"
    }
   ],
   "source": [
    "# Remove outliers\n",
    "df_no_outliers = df_label_encoded[outliers == 1]\n",
    "df_no_outliers.shape"
   ]
  },
  {
   "cell_type": "code",
   "execution_count": 41,
   "id": "32550ebd-f37f-4983-8541-d47eb7ee52bb",
   "metadata": {},
   "outputs": [
    {
     "data": {
      "text/html": [
       "<div>\n",
       "<style scoped>\n",
       "    .dataframe tbody tr th:only-of-type {\n",
       "        vertical-align: middle;\n",
       "    }\n",
       "\n",
       "    .dataframe tbody tr th {\n",
       "        vertical-align: top;\n",
       "    }\n",
       "\n",
       "    .dataframe thead th {\n",
       "        text-align: right;\n",
       "    }\n",
       "</style>\n",
       "<table border=\"1\" class=\"dataframe\">\n",
       "  <thead>\n",
       "    <tr style=\"text-align: right;\">\n",
       "      <th></th>\n",
       "      <th>age</th>\n",
       "      <th>workclass</th>\n",
       "      <th>fnlwgt</th>\n",
       "      <th>education</th>\n",
       "      <th>education_num</th>\n",
       "      <th>marital_status</th>\n",
       "      <th>occupation</th>\n",
       "      <th>relationship</th>\n",
       "      <th>race</th>\n",
       "      <th>capital_gain</th>\n",
       "      <th>capital_loss</th>\n",
       "      <th>hours_per_week</th>\n",
       "      <th>native_country</th>\n",
       "      <th>sex_0</th>\n",
       "      <th>income_0</th>\n",
       "      <th>age_bin</th>\n",
       "      <th>hours_per_week_bin</th>\n",
       "      <th>capital_gain_log</th>\n",
       "    </tr>\n",
       "  </thead>\n",
       "  <tbody>\n",
       "    <tr>\n",
       "      <th>0</th>\n",
       "      <td>39</td>\n",
       "      <td>7</td>\n",
       "      <td>77516</td>\n",
       "      <td>9</td>\n",
       "      <td>13</td>\n",
       "      <td>4</td>\n",
       "      <td>1</td>\n",
       "      <td>1</td>\n",
       "      <td>4</td>\n",
       "      <td>2174</td>\n",
       "      <td>0</td>\n",
       "      <td>40</td>\n",
       "      <td>39</td>\n",
       "      <td>1.0</td>\n",
       "      <td>0.0</td>\n",
       "      <td>1</td>\n",
       "      <td>1</td>\n",
       "      <td>7.684784</td>\n",
       "    </tr>\n",
       "    <tr>\n",
       "      <th>1</th>\n",
       "      <td>50</td>\n",
       "      <td>6</td>\n",
       "      <td>83311</td>\n",
       "      <td>9</td>\n",
       "      <td>13</td>\n",
       "      <td>2</td>\n",
       "      <td>4</td>\n",
       "      <td>0</td>\n",
       "      <td>4</td>\n",
       "      <td>0</td>\n",
       "      <td>0</td>\n",
       "      <td>13</td>\n",
       "      <td>39</td>\n",
       "      <td>1.0</td>\n",
       "      <td>0.0</td>\n",
       "      <td>2</td>\n",
       "      <td>3</td>\n",
       "      <td>0.000000</td>\n",
       "    </tr>\n",
       "    <tr>\n",
       "      <th>2</th>\n",
       "      <td>38</td>\n",
       "      <td>4</td>\n",
       "      <td>215646</td>\n",
       "      <td>11</td>\n",
       "      <td>9</td>\n",
       "      <td>0</td>\n",
       "      <td>6</td>\n",
       "      <td>1</td>\n",
       "      <td>4</td>\n",
       "      <td>0</td>\n",
       "      <td>0</td>\n",
       "      <td>40</td>\n",
       "      <td>39</td>\n",
       "      <td>1.0</td>\n",
       "      <td>0.0</td>\n",
       "      <td>1</td>\n",
       "      <td>1</td>\n",
       "      <td>0.000000</td>\n",
       "    </tr>\n",
       "    <tr>\n",
       "      <th>3</th>\n",
       "      <td>53</td>\n",
       "      <td>4</td>\n",
       "      <td>234721</td>\n",
       "      <td>1</td>\n",
       "      <td>7</td>\n",
       "      <td>2</td>\n",
       "      <td>6</td>\n",
       "      <td>0</td>\n",
       "      <td>2</td>\n",
       "      <td>0</td>\n",
       "      <td>0</td>\n",
       "      <td>40</td>\n",
       "      <td>39</td>\n",
       "      <td>1.0</td>\n",
       "      <td>0.0</td>\n",
       "      <td>2</td>\n",
       "      <td>1</td>\n",
       "      <td>0.000000</td>\n",
       "    </tr>\n",
       "    <tr>\n",
       "      <th>4</th>\n",
       "      <td>28</td>\n",
       "      <td>4</td>\n",
       "      <td>338409</td>\n",
       "      <td>9</td>\n",
       "      <td>13</td>\n",
       "      <td>2</td>\n",
       "      <td>10</td>\n",
       "      <td>5</td>\n",
       "      <td>2</td>\n",
       "      <td>0</td>\n",
       "      <td>0</td>\n",
       "      <td>40</td>\n",
       "      <td>5</td>\n",
       "      <td>0.0</td>\n",
       "      <td>0.0</td>\n",
       "      <td>1</td>\n",
       "      <td>1</td>\n",
       "      <td>0.000000</td>\n",
       "    </tr>\n",
       "    <tr>\n",
       "      <th>...</th>\n",
       "      <td>...</td>\n",
       "      <td>...</td>\n",
       "      <td>...</td>\n",
       "      <td>...</td>\n",
       "      <td>...</td>\n",
       "      <td>...</td>\n",
       "      <td>...</td>\n",
       "      <td>...</td>\n",
       "      <td>...</td>\n",
       "      <td>...</td>\n",
       "      <td>...</td>\n",
       "      <td>...</td>\n",
       "      <td>...</td>\n",
       "      <td>...</td>\n",
       "      <td>...</td>\n",
       "      <td>...</td>\n",
       "      <td>...</td>\n",
       "      <td>...</td>\n",
       "    </tr>\n",
       "    <tr>\n",
       "      <th>32556</th>\n",
       "      <td>27</td>\n",
       "      <td>4</td>\n",
       "      <td>257302</td>\n",
       "      <td>7</td>\n",
       "      <td>12</td>\n",
       "      <td>2</td>\n",
       "      <td>13</td>\n",
       "      <td>5</td>\n",
       "      <td>4</td>\n",
       "      <td>0</td>\n",
       "      <td>0</td>\n",
       "      <td>38</td>\n",
       "      <td>39</td>\n",
       "      <td>0.0</td>\n",
       "      <td>0.0</td>\n",
       "      <td>1</td>\n",
       "      <td>1</td>\n",
       "      <td>0.000000</td>\n",
       "    </tr>\n",
       "    <tr>\n",
       "      <th>32557</th>\n",
       "      <td>40</td>\n",
       "      <td>4</td>\n",
       "      <td>154374</td>\n",
       "      <td>11</td>\n",
       "      <td>9</td>\n",
       "      <td>2</td>\n",
       "      <td>7</td>\n",
       "      <td>0</td>\n",
       "      <td>4</td>\n",
       "      <td>0</td>\n",
       "      <td>0</td>\n",
       "      <td>40</td>\n",
       "      <td>39</td>\n",
       "      <td>1.0</td>\n",
       "      <td>1.0</td>\n",
       "      <td>1</td>\n",
       "      <td>1</td>\n",
       "      <td>0.000000</td>\n",
       "    </tr>\n",
       "    <tr>\n",
       "      <th>32558</th>\n",
       "      <td>58</td>\n",
       "      <td>4</td>\n",
       "      <td>151910</td>\n",
       "      <td>11</td>\n",
       "      <td>9</td>\n",
       "      <td>6</td>\n",
       "      <td>1</td>\n",
       "      <td>4</td>\n",
       "      <td>4</td>\n",
       "      <td>0</td>\n",
       "      <td>0</td>\n",
       "      <td>40</td>\n",
       "      <td>39</td>\n",
       "      <td>0.0</td>\n",
       "      <td>0.0</td>\n",
       "      <td>2</td>\n",
       "      <td>1</td>\n",
       "      <td>0.000000</td>\n",
       "    </tr>\n",
       "    <tr>\n",
       "      <th>32559</th>\n",
       "      <td>22</td>\n",
       "      <td>4</td>\n",
       "      <td>201490</td>\n",
       "      <td>11</td>\n",
       "      <td>9</td>\n",
       "      <td>4</td>\n",
       "      <td>1</td>\n",
       "      <td>3</td>\n",
       "      <td>4</td>\n",
       "      <td>0</td>\n",
       "      <td>0</td>\n",
       "      <td>20</td>\n",
       "      <td>39</td>\n",
       "      <td>1.0</td>\n",
       "      <td>0.0</td>\n",
       "      <td>3</td>\n",
       "      <td>3</td>\n",
       "      <td>0.000000</td>\n",
       "    </tr>\n",
       "    <tr>\n",
       "      <th>32560</th>\n",
       "      <td>52</td>\n",
       "      <td>5</td>\n",
       "      <td>287927</td>\n",
       "      <td>11</td>\n",
       "      <td>9</td>\n",
       "      <td>2</td>\n",
       "      <td>4</td>\n",
       "      <td>5</td>\n",
       "      <td>4</td>\n",
       "      <td>15024</td>\n",
       "      <td>0</td>\n",
       "      <td>40</td>\n",
       "      <td>39</td>\n",
       "      <td>0.0</td>\n",
       "      <td>1.0</td>\n",
       "      <td>2</td>\n",
       "      <td>1</td>\n",
       "      <td>9.617471</td>\n",
       "    </tr>\n",
       "  </tbody>\n",
       "</table>\n",
       "<p>30933 rows × 18 columns</p>\n",
       "</div>"
      ],
      "text/plain": [
       "       age  workclass  fnlwgt  education  education_num  marital_status  \\\n",
       "0       39          7   77516          9             13               4   \n",
       "1       50          6   83311          9             13               2   \n",
       "2       38          4  215646         11              9               0   \n",
       "3       53          4  234721          1              7               2   \n",
       "4       28          4  338409          9             13               2   \n",
       "...    ...        ...     ...        ...            ...             ...   \n",
       "32556   27          4  257302          7             12               2   \n",
       "32557   40          4  154374         11              9               2   \n",
       "32558   58          4  151910         11              9               6   \n",
       "32559   22          4  201490         11              9               4   \n",
       "32560   52          5  287927         11              9               2   \n",
       "\n",
       "       occupation  relationship  race  capital_gain  capital_loss  \\\n",
       "0               1             1     4          2174             0   \n",
       "1               4             0     4             0             0   \n",
       "2               6             1     4             0             0   \n",
       "3               6             0     2             0             0   \n",
       "4              10             5     2             0             0   \n",
       "...           ...           ...   ...           ...           ...   \n",
       "32556          13             5     4             0             0   \n",
       "32557           7             0     4             0             0   \n",
       "32558           1             4     4             0             0   \n",
       "32559           1             3     4             0             0   \n",
       "32560           4             5     4         15024             0   \n",
       "\n",
       "       hours_per_week  native_country  sex_0  income_0  age_bin  \\\n",
       "0                  40              39    1.0       0.0        1   \n",
       "1                  13              39    1.0       0.0        2   \n",
       "2                  40              39    1.0       0.0        1   \n",
       "3                  40              39    1.0       0.0        2   \n",
       "4                  40               5    0.0       0.0        1   \n",
       "...               ...             ...    ...       ...      ...   \n",
       "32556              38              39    0.0       0.0        1   \n",
       "32557              40              39    1.0       1.0        1   \n",
       "32558              40              39    0.0       0.0        2   \n",
       "32559              20              39    1.0       0.0        3   \n",
       "32560              40              39    0.0       1.0        2   \n",
       "\n",
       "       hours_per_week_bin  capital_gain_log  \n",
       "0                       1          7.684784  \n",
       "1                       3          0.000000  \n",
       "2                       1          0.000000  \n",
       "3                       1          0.000000  \n",
       "4                       1          0.000000  \n",
       "...                   ...               ...  \n",
       "32556                   1          0.000000  \n",
       "32557                   1          0.000000  \n",
       "32558                   1          0.000000  \n",
       "32559                   3          0.000000  \n",
       "32560                   1          9.617471  \n",
       "\n",
       "[30933 rows x 18 columns]"
      ]
     },
     "execution_count": 41,
     "metadata": {},
     "output_type": "execute_result"
    }
   ],
   "source": [
    "df_no_outliers"
   ]
  },
  {
   "cell_type": "code",
   "execution_count": 42,
   "id": "aa878634-f099-4205-ab45-5b497c57950e",
   "metadata": {},
   "outputs": [
    {
     "data": {
      "text/plain": [
       "Index(['age', 'workclass', 'fnlwgt', 'education', 'education_num',\n",
       "       'marital_status', 'occupation', 'relationship', 'race', 'capital_gain',\n",
       "       'capital_loss', 'hours_per_week', 'native_country', 'sex_0', 'income_0',\n",
       "       'age_bin', 'hours_per_week_bin', 'capital_gain_log'],\n",
       "      dtype='object')"
      ]
     },
     "execution_count": 42,
     "metadata": {},
     "output_type": "execute_result"
    }
   ],
   "source": [
    "df_no_outliers.columns"
   ]
  },
  {
   "cell_type": "markdown",
   "id": "44a52319-5fda-4a3f-a9c4-0b6501422c17",
   "metadata": {},
   "source": [
    "## PPS score"
   ]
  },
  {
   "cell_type": "code",
   "execution_count": 43,
   "id": "8a9361b6-8ea0-4434-87fa-600554d7748f",
   "metadata": {},
   "outputs": [],
   "source": [
    "#install the package\n",
    "#!pip install ppscore"
   ]
  },
  {
   "cell_type": "code",
   "execution_count": 44,
   "id": "93b8e538-db32-422a-a920-dd163d16fdce",
   "metadata": {},
   "outputs": [],
   "source": [
    "import ppscore as pps"
   ]
  },
  {
   "cell_type": "code",
   "execution_count": 45,
   "id": "b687395e-eb5a-480c-bea3-7152af42220e",
   "metadata": {},
   "outputs": [],
   "source": [
    "# Calculate PPS matrix\n",
    "pps_matrix = pps.matrix(df_no_outliers)[['x', 'y', 'ppscore']].pivot(columns='x', index='y', values='ppscore')"
   ]
  },
  {
   "cell_type": "code",
   "execution_count": 46,
   "id": "99d36146-3902-41c9-b5de-654ae8ccd5b2",
   "metadata": {},
   "outputs": [
    {
     "data": {
      "text/plain": [
       "(x                        age   age_bin  capital_gain  capital_gain_log  \\\n",
       " y                                                                        \n",
       " age                 1.000000  0.606979      0.002211          0.000888   \n",
       " age_bin             1.000000  1.000000      0.000000          0.000000   \n",
       " capital_gain        0.000000  0.000000      1.000000          0.991154   \n",
       " capital_gain_log    0.000000  0.000000      0.996589          1.000000   \n",
       " capital_loss        0.000000  0.000000      0.000000          0.000000   \n",
       " education           0.000000  0.000000      0.000000          0.000000   \n",
       " education_num       0.000000  0.000000      0.000000          0.000000   \n",
       " fnlwgt              0.000000  0.000000      0.000000          0.000000   \n",
       " hours_per_week      0.000000  0.000000      0.000000          0.000000   \n",
       " hours_per_week_bin  0.000000  0.000000      0.000000          0.000000   \n",
       " income_0            0.000000  0.000000      0.000000          0.000000   \n",
       " marital_status      0.150053  0.117162      0.000000          0.000000   \n",
       " native_country      0.000000  0.000000      0.000000          0.000000   \n",
       " occupation          0.000000  0.001002      0.000000          0.000000   \n",
       " race                0.000000  0.000000      0.000000          0.000000   \n",
       " relationship        0.000520  0.000000      0.000000          0.000000   \n",
       " sex_0               0.000000  0.000000      0.000000          0.000000   \n",
       " workclass           0.000000  0.000000      0.000000          0.000000   \n",
       " \n",
       " x                   capital_loss  education  education_num  fnlwgt  \\\n",
       " y                                                                    \n",
       " age                          0.0   0.021166       0.021166     0.0   \n",
       " age_bin                      0.0   0.000000       0.000000     0.0   \n",
       " capital_gain                 0.0   0.000000       0.000000     0.0   \n",
       " capital_gain_log             0.0   0.000000       0.000000     0.0   \n",
       " capital_loss                 1.0   0.000000       0.000000     0.0   \n",
       " education                    0.0   1.000000       1.000000     0.0   \n",
       " education_num                0.0   1.000000       1.000000     0.0   \n",
       " fnlwgt                       0.0   0.000000       0.000000     1.0   \n",
       " hours_per_week               0.0   0.000000       0.000000     0.0   \n",
       " hours_per_week_bin           0.0   0.000000       0.000000     0.0   \n",
       " income_0                     0.0   0.000000       0.000000     0.0   \n",
       " marital_status               0.0   0.000000       0.000000     0.0   \n",
       " native_country               0.0   0.000000       0.000000     0.0   \n",
       " occupation                   0.0   0.025863       0.025863     0.0   \n",
       " race                         0.0   0.000000       0.000000     0.0   \n",
       " relationship                 0.0   0.000000       0.000000     0.0   \n",
       " sex_0                        0.0   0.000000       0.000000     0.0   \n",
       " workclass                    0.0   0.000000       0.000000     0.0   \n",
       " \n",
       " x                   hours_per_week  hours_per_week_bin  income_0  \\\n",
       " y                                                                  \n",
       " age                       0.001458            0.000894  0.036928   \n",
       " age_bin                   0.000000            0.000000  0.000000   \n",
       " capital_gain              0.000000            0.000000  0.000000   \n",
       " capital_gain_log          0.000000            0.000000  0.000000   \n",
       " capital_loss              0.000000            0.000000  0.000000   \n",
       " education                 0.000000            0.000000  0.000000   \n",
       " education_num             0.000000            0.000000  0.022644   \n",
       " fnlwgt                    0.000000            0.000000  0.000000   \n",
       " hours_per_week            1.000000            0.513912  0.000000   \n",
       " hours_per_week_bin        0.998304            1.000000  0.000000   \n",
       " income_0                  0.000000            0.000000  1.000000   \n",
       " marital_status            0.000000            0.000000  0.000000   \n",
       " native_country            0.000000            0.000000  0.000000   \n",
       " occupation                0.000000            0.000000  0.000828   \n",
       " race                      0.000000            0.000000  0.000000   \n",
       " relationship              0.000000            0.000000  0.000000   \n",
       " sex_0                     0.000000            0.000000  0.000000   \n",
       " workclass                 0.000000            0.000000  0.000000   \n",
       " \n",
       " x                   marital_status  native_country  occupation      race  \\\n",
       " y                                                                          \n",
       " age                       0.209342             0.0    0.013874  0.000000   \n",
       " age_bin                   0.000000             0.0    0.000000  0.000000   \n",
       " capital_gain              0.000000             0.0    0.000000  0.000000   \n",
       " capital_gain_log          0.000000             0.0    0.000000  0.000000   \n",
       " capital_loss              0.000000             0.0    0.000000  0.000000   \n",
       " education                 0.000000             0.0    0.000000  0.000000   \n",
       " education_num             0.000000             0.0    0.165128  0.000000   \n",
       " fnlwgt                    0.000000             0.0    0.000000  0.000987   \n",
       " hours_per_week            0.000000             0.0    0.000000  0.000000   \n",
       " hours_per_week_bin        0.000000             0.0    0.000000  0.000000   \n",
       " income_0                  0.000000             0.0    0.000000  0.000000   \n",
       " marital_status            1.000000             0.0    0.000000  0.000000   \n",
       " native_country            0.000000             1.0    0.000000  0.000000   \n",
       " occupation                0.000000             0.0    1.000000  0.000000   \n",
       " race                      0.000000             0.0    0.000000  1.000000   \n",
       " relationship              0.117940             0.0    0.000000  0.000000   \n",
       " sex_0                     0.000000             0.0    0.000000  0.000000   \n",
       " workclass                 0.000000             0.0    0.184999  0.000000   \n",
       " \n",
       " x                   relationship     sex_0  workclass  \n",
       " y                                                      \n",
       " age                     0.147923  0.000000   0.020604  \n",
       " age_bin                 0.031643  0.000000   0.000000  \n",
       " capital_gain            0.000000  0.000000   0.000000  \n",
       " capital_gain_log        0.000000  0.000000   0.000000  \n",
       " capital_loss            0.000000  0.000000   0.000000  \n",
       " education               0.000000  0.000000   0.000000  \n",
       " education_num           0.000000  0.000000   0.000000  \n",
       " fnlwgt                  0.000000  0.000000   0.000000  \n",
       " hours_per_week          0.000000  0.000000   0.000000  \n",
       " hours_per_week_bin      0.000000  0.000000   0.000000  \n",
       " income_0                0.000000  0.000000   0.000000  \n",
       " marital_status          0.285817  0.000000   0.000000  \n",
       " native_country          0.000000  0.000000   0.000000  \n",
       " occupation              0.000000  0.000000   0.113708  \n",
       " race                    0.000000  0.000000   0.000000  \n",
       " relationship            1.000000  0.137573   0.000000  \n",
       " sex_0                   0.228381  1.000000   0.000000  \n",
       " workclass               0.000000  0.000000   1.000000  ,\n",
       "                          age  workclass    fnlwgt  education  education_num  \\\n",
       " age                 1.000000   0.009916 -0.080087  -0.003206       0.038174   \n",
       " workclass           0.009916   1.000000 -0.017071   0.019364       0.045534   \n",
       " fnlwgt             -0.080087  -0.017071  1.000000  -0.018158      -0.033822   \n",
       " education          -0.003206   0.019364 -0.018158   1.000000       0.347605   \n",
       " education_num       0.038174   0.045534 -0.033822   0.347605       1.000000   \n",
       " marital_status     -0.285346  -0.060015  0.027442  -0.033316      -0.055546   \n",
       " occupation         -0.017032   0.248788 -0.000842  -0.025521       0.105590   \n",
       " relationship       -0.262113  -0.092165  0.008720  -0.009561      -0.087540   \n",
       " race                0.026524   0.049288 -0.023486   0.013203       0.028000   \n",
       " capital_gain        0.095340   0.021027 -0.014339   0.020606       0.130262   \n",
       " capital_loss        0.015597  -0.007396 -0.022987   0.016446       0.025786   \n",
       " hours_per_week      0.093845   0.129991 -0.020901   0.049573       0.131452   \n",
       " native_country      0.001423  -0.005790 -0.049909   0.062933       0.048655   \n",
       " sex_0               0.085528   0.094749  0.026024  -0.030083       0.002903   \n",
       " income_0            0.228844   0.039700 -0.012100   0.069854       0.308371   \n",
       " age_bin            -0.340531  -0.055852  0.025056  -0.020764      -0.121838   \n",
       " hours_per_week_bin -0.016242   0.007883 -0.030844  -0.007344       0.043791   \n",
       " capital_gain_log    0.099180   0.011863 -0.014541   0.016194       0.098001   \n",
       " \n",
       "                     marital_status  occupation  relationship      race  \\\n",
       " age                      -0.285346   -0.017032     -0.262113  0.026524   \n",
       " workclass                -0.060015    0.248788     -0.092165  0.049288   \n",
       " fnlwgt                    0.027442   -0.000842      0.008720 -0.023486   \n",
       " education                -0.033316   -0.025521     -0.009561  0.013203   \n",
       " education_num            -0.055546    0.105590     -0.087540  0.028000   \n",
       " marital_status            1.000000   -0.005928      0.183100 -0.066094   \n",
       " occupation               -0.005928    1.000000     -0.075463  0.007869   \n",
       " relationship              0.183100   -0.075463      1.000000 -0.118632   \n",
       " race                     -0.066094    0.007869     -0.118632  1.000000   \n",
       " capital_gain             -0.062965    0.019451     -0.071932  0.019167   \n",
       " capital_loss             -0.032856    0.008842     -0.039452  0.012270   \n",
       " hours_per_week           -0.189580    0.071993     -0.250066  0.043838   \n",
       " native_country           -0.023831   -0.012463     -0.007120  0.134217   \n",
       " sex_0                    -0.122819    0.080855     -0.578124  0.088492   \n",
       " income_0                 -0.194192    0.070424     -0.244028  0.070144   \n",
       " age_bin                   0.246235   -0.016915      0.186211  0.017472   \n",
       " hours_per_week_bin        0.048314    0.034658      0.011473  0.055466   \n",
       " capital_gain_log         -0.062298    0.013546     -0.072087  0.021654   \n",
       " \n",
       "                     capital_gain  capital_loss  hours_per_week  \\\n",
       " age                     0.095340      0.015597        0.093845   \n",
       " workclass               0.021027     -0.007396        0.129991   \n",
       " fnlwgt                 -0.014339     -0.022987       -0.020901   \n",
       " education               0.020606      0.016446        0.049573   \n",
       " education_num           0.130262      0.025786        0.131452   \n",
       " marital_status         -0.062965     -0.032856       -0.189580   \n",
       " occupation              0.019451      0.008842        0.071993   \n",
       " relationship           -0.071932     -0.039452       -0.250066   \n",
       " race                    0.019167      0.012270        0.043838   \n",
       " capital_gain            1.000000     -0.031477        0.070237   \n",
       " capital_loss           -0.031477      1.000000        0.010341   \n",
       " hours_per_week          0.070237      0.010341        1.000000   \n",
       " native_country          0.012899      0.012685        0.001618   \n",
       " sex_0                   0.060355      0.029384        0.228062   \n",
       " income_0                0.311372      0.066170        0.216385   \n",
       " age_bin                -0.060016     -0.032752       -0.196987   \n",
       " hours_per_week_bin      0.013420     -0.033431       -0.205355   \n",
       " capital_gain_log        0.859186     -0.038409        0.060217   \n",
       " \n",
       "                     native_country     sex_0  income_0   age_bin  \\\n",
       " age                       0.001423  0.085528  0.228844 -0.340531   \n",
       " workclass                -0.005790  0.094749  0.039700 -0.055852   \n",
       " fnlwgt                   -0.049909  0.026024 -0.012100  0.025056   \n",
       " education                 0.062933 -0.030083  0.069854 -0.020764   \n",
       " education_num             0.048655  0.002903  0.308371 -0.121838   \n",
       " marital_status           -0.023831 -0.122819 -0.194192  0.246235   \n",
       " occupation               -0.012463  0.080855  0.070424 -0.016915   \n",
       " relationship             -0.007120 -0.578124 -0.244028  0.186211   \n",
       " race                      0.134217  0.088492  0.070144  0.017472   \n",
       " capital_gain              0.012899  0.060355  0.311372 -0.060016   \n",
       " capital_loss              0.012685  0.029384  0.066170 -0.032752   \n",
       " hours_per_week            0.001618  0.228062  0.216385 -0.196987   \n",
       " native_country            1.000000 -0.007675  0.019076  0.023297   \n",
       " sex_0                    -0.007675  1.000000  0.208877 -0.081303   \n",
       " income_0                  0.019076  0.208877  1.000000 -0.146604   \n",
       " age_bin                   0.023297 -0.081303 -0.146604  1.000000   \n",
       " hours_per_week_bin        0.031395  0.000547  0.028151  0.051576   \n",
       " capital_gain_log          0.010594  0.059092  0.253678 -0.068441   \n",
       " \n",
       "                     hours_per_week_bin  capital_gain_log  \n",
       " age                          -0.016242          0.099180  \n",
       " workclass                     0.007883          0.011863  \n",
       " fnlwgt                       -0.030844         -0.014541  \n",
       " education                    -0.007344          0.016194  \n",
       " education_num                 0.043791          0.098001  \n",
       " marital_status                0.048314         -0.062298  \n",
       " occupation                    0.034658          0.013546  \n",
       " relationship                  0.011473         -0.072087  \n",
       " race                          0.055466          0.021654  \n",
       " capital_gain                  0.013420          0.859186  \n",
       " capital_loss                 -0.033431         -0.038409  \n",
       " hours_per_week               -0.205355          0.060217  \n",
       " native_country                0.031395          0.010594  \n",
       " sex_0                         0.000547          0.059092  \n",
       " income_0                      0.028151          0.253678  \n",
       " age_bin                       0.051576         -0.068441  \n",
       " hours_per_week_bin            1.000000          0.010747  \n",
       " capital_gain_log              0.010747          1.000000  )"
      ]
     },
     "execution_count": 46,
     "metadata": {},
     "output_type": "execute_result"
    }
   ],
   "source": [
    "# Calculate correlation matrix\n",
    "correlation_matrix = df_no_outliers.corr()\n",
    "\n",
    "pps_matrix, correlation_matrix"
   ]
  },
  {
   "cell_type": "code",
   "execution_count": null,
   "id": "1fb88c84-8f6b-4742-87fc-502657946edb",
   "metadata": {},
   "outputs": [],
   "source": []
  }
 ],
 "metadata": {
  "kernelspec": {
   "display_name": "Python 3 (ipykernel)",
   "language": "python",
   "name": "python3"
  },
  "language_info": {
   "codemirror_mode": {
    "name": "ipython",
    "version": 3
   },
   "file_extension": ".py",
   "mimetype": "text/x-python",
   "name": "python",
   "nbconvert_exporter": "python",
   "pygments_lexer": "ipython3",
   "version": "3.9.21"
  }
 },
 "nbformat": 4,
 "nbformat_minor": 5
}
